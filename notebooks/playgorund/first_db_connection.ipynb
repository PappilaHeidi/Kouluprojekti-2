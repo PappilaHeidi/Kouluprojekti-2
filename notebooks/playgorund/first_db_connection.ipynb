{
 "cells": [
  {
   "cell_type": "markdown",
   "metadata": {},
   "source": [
    "# Cosmosdb connection testing\n",
    "\n",
    "## Azure python documentation\n",
    "https://learn.microsoft.com/en-us/python/api/azure-cosmos/azure.cosmos?preserve-view=true&view=azure-python\n"
   ]
  },
  {
   "cell_type": "code",
   "execution_count": 6,
   "metadata": {},
   "outputs": [
    {
     "data": {
      "text/plain": [
       "True"
      ]
     },
     "execution_count": 6,
     "metadata": {},
     "output_type": "execute_result"
    }
   ],
   "source": [
    "import azure.cosmos.cosmos_client as cosmos_client\n",
    "import azure.cosmos.exceptions as exceptions\n",
    "import os\n",
    "from dotenv import load_dotenv\n",
    "from azure.cosmos import CosmosClient, PartitionKey\n",
    "\n",
    "load_dotenv('../../shared/.env')"
   ]
  },
  {
   "cell_type": "code",
   "execution_count": 7,
   "metadata": {},
   "outputs": [],
   "source": [
    "# database env\n",
    "URL = os.getenv('COSMOSDB_ENDPOINT')  \n",
    "MASTER_KEY = os.getenv('COSMOSDB_KEY')"
   ]
  },
  {
   "cell_type": "code",
   "execution_count": 8,
   "metadata": {},
   "outputs": [],
   "source": [
    "# init client\n",
    "client = cosmos_client.CosmosClient(URL, {'masterKey': MASTER_KEY}, user_agent=\"Andy\", user_agent_overwrite=True)\n"
   ]
  },
  {
   "cell_type": "code",
   "execution_count": null,
   "metadata": {},
   "outputs": [],
   "source": [
    "# Create a database (if it doesn't exist)\n",
    "database_name = 'SampleDatabase'\n",
    "\n",
    "try:\n",
    "    database = client.create_database_if_not_exists(id=database_name)\n",
    "except exceptions.CosmosResourceExistsError:\n",
    "    database = client.get_database_client(database_name)\n",
    "\n",
    "# Create a container (if it doesn't exist)\n",
    "container_name = 'SampleContainer'\n",
    "try:\n",
    "    container = database.create_container_if_not_exists(\n",
    "        id=container_name,\n",
    "        partition_key=PartitionKey(path='/partitionKey'),\n",
    "        offer_throughput=400\n",
    "    )\n",
    "except exceptions.CosmosResourceExistsError:\n",
    "    container = database.get_container_client(container_name)"
   ]
  },
  {
   "cell_type": "code",
   "execution_count": null,
   "metadata": {},
   "outputs": [],
   "source": [
    "# insert something in the db\n"
   ]
  }
 ],
 "metadata": {
  "kernelspec": {
   "display_name": ".venv",
   "language": "python",
   "name": "python3"
  },
  "language_info": {
   "codemirror_mode": {
    "name": "ipython",
    "version": 3
   },
   "file_extension": ".py",
   "mimetype": "text/x-python",
   "name": "python",
   "nbconvert_exporter": "python",
   "pygments_lexer": "ipython3",
   "version": "3.13.0"
  }
 },
 "nbformat": 4,
 "nbformat_minor": 2
}
