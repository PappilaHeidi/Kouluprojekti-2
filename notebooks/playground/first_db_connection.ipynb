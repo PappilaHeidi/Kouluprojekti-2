{
 "cells": [
  {
   "cell_type": "markdown",
   "metadata": {},
   "source": [
    "# Cosmosdb connection testing\n",
    "\n",
    "## Azure python documentation\n",
    "https://learn.microsoft.com/en-us/python/api/azure-cosmos/azure.cosmos?preserve-view=true&view=azure-python\n"
   ]
  },
  {
   "cell_type": "code",
   "execution_count": 1,
   "metadata": {},
   "outputs": [
    {
     "data": {
      "text/plain": [
       "True"
      ]
     },
     "execution_count": 1,
     "metadata": {},
     "output_type": "execute_result"
    }
   ],
   "source": [
    "import azure.cosmos.cosmos_client as cosmos_client\n",
    "import azure.cosmos.exceptions as exceptions\n",
    "import os\n",
    "import json\n",
    "from dotenv import load_dotenv\n",
    "from azure.cosmos import CosmosClient, PartitionKey\n",
    "\n",
    "load_dotenv('../../shared/.env')"
   ]
  },
  {
   "cell_type": "code",
   "execution_count": 2,
   "metadata": {},
   "outputs": [],
   "source": [
    "# database env\n",
    "URL = os.getenv('COSMOSDB_ENDPOINT')  \n",
    "MASTER_KEY = os.getenv('COSMOSDB_KEY')"
   ]
  },
  {
   "cell_type": "code",
   "execution_count": 3,
   "metadata": {},
   "outputs": [],
   "source": [
    "# init client\n",
    "client = cosmos_client.CosmosClient(URL, {'masterKey': MASTER_KEY}, user_agent=\"\", user_agent_overwrite=True)\n"
   ]
  },
  {
   "cell_type": "code",
   "execution_count": 4,
   "metadata": {},
   "outputs": [],
   "source": [
    "# Create a database (if it doesn't exist)\n",
    "database_name = 'MojovaDB'\n",
    "database = client.get_database_client(database_name)\n",
    "\n",
    "# Create a container (if it doesn't exist)\n",
    "container_name = 'Analytics'\n",
    "try:\n",
    "    container = database.create_container_if_not_exists(\n",
    "        id=container_name,\n",
    "        partition_key=PartitionKey(path='/medallion'),\n",
    "        offer_throughput=400\n",
    "    )\n",
    "except exceptions.CosmosResourceExistsError:\n",
    "    container = database.get_container_client(container_name)"
   ]
  },
  {
   "cell_type": "code",
   "execution_count": 5,
   "metadata": {},
   "outputs": [
    {
     "name": "stdout",
     "output_type": "stream",
     "text": [
      "{'organisaatiokoodi_kolme_numeroa': 117, 'yksikkokoodiks_luokitteluohje_yksikkokoodit-valilehdelta': 'AIKKIRMUU', 'kvartaali_ja_vuosiesim_1_2020': '3_2023', '1_hoitajat_ottivat_mielipiteeni_huomioon_kun_hoitoani_suunniteltiin_tai_toteutettiin': 5, '2_hoitajat_ja_laakarit_toimivat_hyvin_yhdessa_hoitooni_liittyvissa_asioissa': 5, '3_hoitoni_oli_hyvin_suunniteltu_ja_toteutettu_hoitajien_seka_laakareiden_toimesta': 5, '4_hoitajat_pyysivat_minulta_anteeksi_jos_hoidossani_tapahtui_virhe': 5, '5_hoitajat_puuttuivat_epakohtaan_josta_mainitsin_heille': 5, '6_hoitajat_kertoivat_minulle_uuden_laakkeen_antamisen_yhteydessa_miksi_laaketta_annetaan': 5, '7_hoitajat_kertoivat_minulle_saamieni_laakkeiden_mahdollisista_sivuvaikutuksista': 5, '8_hoitajat_puhuivat_arkaluontoisista_asioista_siten_etteivat_ulkopuoliset_kuulleet_niita': 5, '9_hoitajat_huolehtivat_etta_liikkuminen_oli_turvallista_hoidon_aikana': 5, '10_hoitajat_kohtelivat_minua_hyvin': 5, '11_hoitajat_huolehtivat_etteivat_hoito_ja_tai_tutkimukset_aiheuttaneet_minulle_noloja_tai_kiusallisia_tilanteita': 5, '12_hoitajat_huolehtivat_yksityisyyteni_toteutumisesta': 5, '13_sain_tarvitsemani_avun_hoitajilta_riittavan_nopeasti': 5, '14_sain_hoitajilta_apua_riittavan_nopeasti_halutessani_wc:hen_tai_alusastian': 5, '15_hoitajat_selittivat_ymmarrettavasti_hoitooni_ja_tutkimuksiini_liittyvat_asiat': 5, '16_hoitajat_ohjasivat_ymmarrettavasti_jatkohoitooni_liittyvat_asiat': 5, '17_hoitajat_ohjasivat_ymmarrettavasti_kotona_vointini_tarkkailuun_liittyvat_asiat': 5, '18_hoitajat_varmistivat_etta_ymmarsin_saamani_tiedon': 5, '19_hoitaja_huolehti_etta_sain_lievitysta_kipuihin_kun_siihen_oli_tarvetta': 5, '20_hoitajat_arvioivat_kipujani_riittavan_usein': 5, '21_hoitajat_kuuntelivat_minua_huolellisesti': 5, '22_hoitajat_olivat_aidosti_lasna': 5}\n"
     ]
    }
   ],
   "source": [
    "# read local datafile\n",
    "# print first json element\n",
    "datafile = '../../data/ingestion/117_HOpp-Q3_2023.xlsx.json'\n",
    "\n",
    "with open(datafile, \"r\") as f:\n",
    "    content = f.read()\n",
    "    content = json.loads(content)\n",
    "    print(content[0])\n"
   ]
  },
  {
   "cell_type": "code",
   "execution_count": null,
   "metadata": {},
   "outputs": [],
   "source": []
  },
  {
   "cell_type": "code",
   "execution_count": 6,
   "metadata": {},
   "outputs": [],
   "source": [
    "# add data to container\n",
    "import uuid\n",
    "for item in content:\n",
    "    item.setdefault(\"id\", str(uuid.uuid4()))\n",
    "    container.upsert_item(item)"
   ]
  },
  {
   "cell_type": "code",
   "execution_count": 5,
   "metadata": {},
   "outputs": [],
   "source": [
    "import pandas as pd\n",
    "query = \"SELECT * FROM c WHERE c['/medallion'] = 'bronze_hopp'\"\n",
    "data = container.query_items(query=query, enable_cross_partition_query=True)\n",
    "# data contasins iterator object\n",
    "data = [item for item in data]\n"
   ]
  },
  {
   "cell_type": "code",
   "execution_count": 7,
   "metadata": {},
   "outputs": [],
   "source": [
    "import pandas as pd\n",
    "query = \"SELECT * FROM c WHERE c['/medallion'] = 'bronze_nes'\"\n",
    "data = container.query_items(query=query, enable_cross_partition_query=True)\n",
    "# data contasins iterator object\n",
    "data = [item for item in data]"
   ]
  },
  {
   "cell_type": "code",
   "execution_count": null,
   "metadata": {},
   "outputs": [],
   "source": []
  },
  {
   "cell_type": "code",
   "execution_count": 8,
   "metadata": {},
   "outputs": [],
   "source": [
    "df = pd.DataFrame(data)\n",
    "df\n",
    "df.to_csv(\"nes_example.csv\", sep=\";\")"
   ]
  },
  {
   "cell_type": "code",
   "execution_count": null,
   "metadata": {},
   "outputs": [],
   "source": []
  }
 ],
 "metadata": {
  "kernelspec": {
   "display_name": ".venv",
   "language": "python",
   "name": "python3"
  },
  "language_info": {
   "codemirror_mode": {
    "name": "ipython",
    "version": 3
   },
   "file_extension": ".py",
   "mimetype": "text/x-python",
   "name": "python",
   "nbconvert_exporter": "python",
   "pygments_lexer": "ipython3",
   "version": "3.12.0"
  }
 },
 "nbformat": 4,
 "nbformat_minor": 2
}
